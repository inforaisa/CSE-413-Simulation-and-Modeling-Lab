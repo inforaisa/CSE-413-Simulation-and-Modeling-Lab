{
  "nbformat": 4,
  "nbformat_minor": 0,
  "metadata": {
    "colab": {
      "provenance": []
    },
    "kernelspec": {
      "name": "python3",
      "display_name": "Python 3"
    },
    "language_info": {
      "name": "python"
    }
  },
  "cells": [
    {
      "cell_type": "code",
      "execution_count": 1,
      "metadata": {
        "colab": {
          "base_uri": "https://localhost:8080/"
        },
        "id": "sIL-qVNLUciE",
        "outputId": "49509af9-d634-48ef-f607-785793762e77"
      },
      "outputs": [
        {
          "output_type": "stream",
          "name": "stdout",
          "text": [
            "[[10 37 16]\n",
            " [ 1 50 29]\n",
            " [26 30 49]]\n"
          ]
        }
      ],
      "source": [
        "import numpy as np\n",
        "\n",
        "# Set a fixed seed to ensure reproducibility\n",
        "np.random.seed(10)\n",
        "matrix_with_seed = np.random.randint(1, 51, size=(3, 3))\n",
        "print(matrix_with_seed)\n"
      ]
    },
    {
      "cell_type": "code",
      "source": [
        "import numpy as np\n",
        "\n",
        "# No fixed seed, random numbers will change every time\n",
        "np.random.seed(None)\n",
        "matrix_without_seed = np.random.randint(1, 51, size=(3, 3))\n",
        "print(matrix_without_seed)\n"
      ],
      "metadata": {
        "colab": {
          "base_uri": "https://localhost:8080/"
        },
        "id": "jF3s80vOUqQW",
        "outputId": "c59e4c62-eb83-49e5-d4be-362668bad222"
      },
      "execution_count": 2,
      "outputs": [
        {
          "output_type": "stream",
          "name": "stdout",
          "text": [
            "[[37 46 30]\n",
            " [45 26 11]\n",
            " [26 38 44]]\n"
          ]
        }
      ]
    }
  ]
}